{
 "nbformat": 4,
 "nbformat_minor": 0,
 "metadata": {
  "colab": {
   "provenance": [
    {
     "file_id": "1XUPVUlqs9a-q1xfzF0m4zYKaBAKUB_1y",
     "timestamp": 1753866559570
    }
   ]
  },
  "kernelspec": {
   "name": "python3",
   "display_name": "Python 3"
  },
  "language_info": {
   "name": "python"
  }
 },
 "cells": [
  {
   "cell_type": "markdown",
   "source": [
    "We load a pre-trained DINO model without any additional training to generate embeddings for images."
   ],
   "metadata": {
    "id": "jQiDMMwzVEsM"
   }
  },
  {
   "cell_type": "code",
   "source": [
    "# === Imports ===\n",
    "from google.colab import drive\n",
    "drive.mount('/content/drive')\n",
    "\n",
    "import numpy as np\n",
    "import torch\n",
    "import torchvision.transforms as T\n",
    "from PIL import Image\n",
    "import os\n",
    "from tqdm.notebook import tqdm\n",
    "from sklearn.decomposition import PCA\n",
    "from sklearn.metrics import silhouette_score\n",
    "import matplotlib.pyplot as plt\n",
    "import pandas as pd\n",
    "from sklearn.preprocessing import LabelEncoder\n",
    "import timm\n",
    "# === Load DINOv2 Model ===\n",
    "dinov2_model = timm.create_model('vit_base_patch14_dinov2', pretrained=True, num_classes=0)\n",
    "device = torch.device('cuda' if torch.cuda.is_available() else 'cpu')\n",
    "dinov2_model.to(device).eval()\n",
    "\n",
    "data_config = timm.data.resolve_model_data_config(dinov2_model)\n",
    "default_transform = timm.data.create_transform(**data_config, is_training=False)\n"
   ],
   "metadata": {
    "colab": {
     "base_uri": "https://localhost:8080/",
     "height": 198,
     "referenced_widgets": [
      "f3441636f0cd4705b82b4907770b5c9f",
      "abb3fd0e07e749beba4d9f76fee6d6a1",
      "07733bf44c4a4be98bd8f59d2ebfec4e",
      "7ddcb3ca886840f0b0abfade687f351a",
      "30991335eca94f86ac4d0ea43016c9f8",
      "02fd3cfea2f04428a39668f0f957b9d8",
      "126a3ff52c2a4d5ca779d58155db2e60",
      "f7f5bc7755994749af41b97fd1237337",
      "c61d006d63d740549a3189fbcb11991a",
      "9beceb7437464837b876c40b75cfa28e",
      "22031c6fa555457db365e19e93fd0f0f"
     ]
    },
    "id": "BWmJ-jQkMVf1",
    "executionInfo": {
     "status": "ok",
     "timestamp": 1753945506152,
     "user_tz": -180,
     "elapsed": 71012,
     "user": {
      "displayName": "אורחן מדר",
      "userId": "14793673884592240909"
     }
    },
    "outputId": "7216258a-92a0-41ee-a177-669279240e98"
   },
   "execution_count": null,
   "outputs": [
    {
     "output_type": "stream",
     "name": "stdout",
     "text": [
      "Mounted at /content/drive\n"
     ]
    },
    {
     "output_type": "stream",
     "name": "stderr",
     "text": [
      "/usr/local/lib/python3.11/dist-packages/huggingface_hub/utils/_auth.py:94: UserWarning: \n",
      "The secret `HF_TOKEN` does not exist in your Colab secrets.\n",
      "To authenticate with the Hugging Face Hub, create a token in your settings tab (https://huggingface.co/settings/tokens), set it as secret in your Google Colab and restart your session.\n",
      "You will be able to reuse this secret in all of your notebooks.\n",
      "Please note that authentication is recommended but still optional to access public models or datasets.\n",
      "  warnings.warn(\n"
     ]
    },
    {
     "output_type": "display_data",
     "data": {
      "text/plain": [
       "model.safetensors:   0%|          | 0.00/346M [00:00<?, ?B/s]"
      ],
      "application/vnd.jupyter.widget-view+json": {
       "version_major": 2,
       "version_minor": 0,
       "model_id": "f3441636f0cd4705b82b4907770b5c9f"
      }
     },
     "metadata": {}
    }
   ]
  },
  {
   "cell_type": "markdown",
   "source": [
    "We then apply various image transformations and extract embeddings for each transformation.\n"
   ],
   "metadata": {
    "id": "aBYjsdmfXrcl"
   }
  },
  {
   "cell_type": "code",
   "execution_count": null,
   "metadata": {
    "id": "IaKINQsruv3r"
   },
   "outputs": [],
   "source": [
    "# === Image Transformations ===\n",
    "class PadToCenter224:\n",
    "    def __call__(self, img):\n",
    "        w, h = img.size\n",
    "        scale = min(224 / w, 224 / h, 1.0)\n",
    "        new_w, new_h = int(w * scale), int(h * scale)\n",
    "        img = img.resize((new_w, new_h), Image.BICUBIC)\n",
    "        canvas = Image.new(\"RGB\", (224, 224), (0, 0, 0))\n",
    "        left = (224 - new_w) // 2\n",
    "        top = (224 - new_h) // 2\n",
    "        canvas.paste(img, (left, top))\n",
    "        return default_transform(canvas)\n",
    "\n",
    "def resize_and_pad(size):\n",
    "    class ResizeAndPad:\n",
    "        def __call__(self, img):\n",
    "            img = img.resize((size, size), Image.BICUBIC)\n",
    "            canvas = Image.new(\"RGB\", (224, 224), (0, 0, 0))\n",
    "            left = (224 - size) // 2\n",
    "            top = (224 - size) // 2\n",
    "            canvas.paste(img, (left, top))\n",
    "            return default_transform(canvas)\n",
    "    return ResizeAndPad()\n",
    "\n",
    "class Duplicate2x2Grid:\n",
    "    def __call__(self, img):\n",
    "        w, h = img.size\n",
    "        grid_img = Image.new(\"RGB\", (w * 2, h * 2))\n",
    "        for i in range(2):\n",
    "            for j in range(2):\n",
    "                grid_img.paste(img, (i * w, j * h))\n",
    "        grid_img = grid_img.resize((224, 224), Image.BICUBIC)\n",
    "        return default_transform(grid_img)\n",
    "\n",
    "transforms_dict = {\n",
    "    \"resize_224\": default_transform,\n",
    "    \"pad_center_224\": PadToCenter224(),\n",
    "    \"resize_50_pad\": resize_and_pad(50),\n",
    "    \"resize_100_pad\": resize_and_pad(100),\n",
    "    \"resize_150_pad\": resize_and_pad(150),\n",
    "    \"resize_200_pad\": resize_and_pad(200),\n",
    "    \"grid_2x2\": Duplicate2x2Grid(),\n",
    "}"
   ]
  },
  {
   "cell_type": "code",
   "source": [
    "# === Utility Functions ===\n",
    "def get_image_paths(directory):\n",
    "    image_paths = []\n",
    "    for class_dir in os.listdir(directory):\n",
    "        class_path = os.path.join(directory, class_dir)\n",
    "        if os.path.isdir(class_path):\n",
    "            for img in os.listdir(class_path):\n",
    "                if img.lower().endswith(('.jpg', '.jpeg', '.png')):\n",
    "                    image_paths.append(os.path.join(class_path, img))\n",
    "    return image_paths\n",
    "\n",
    "def extract_embeddings_with_transform(image_paths, transform):\n",
    "    embeddings, labels = [], []\n",
    "    with torch.no_grad():\n",
    "        for path in tqdm(image_paths, desc=\"Extracting embeddings\"):\n",
    "            img = Image.open(path).convert(\"RGB\")\n",
    "            tensor_img = transform(img).unsqueeze(0).to(device)\n",
    "            feats = dinov2_model.forward_features(tensor_img)\n",
    "            pooled = dinov2_model.forward_head(feats, pre_logits=True)\n",
    "            embeddings.append(pooled.squeeze().cpu().numpy())\n",
    "            labels.append(os.path.basename(os.path.dirname(path)))\n",
    "    return np.array(embeddings), np.array(labels)\n",
    "\n",
    "def compute_class_separation(X, y):\n",
    "    classes = np.unique(y)\n",
    "    centroids = [np.mean(X[y == cls], axis=0) for cls in classes]\n",
    "    dists = []\n",
    "    for i in range(len(centroids)):\n",
    "        for j in range(i + 1, len(centroids)):\n",
    "            d = np.linalg.norm(centroids[i] - centroids[j])\n",
    "            dists.append(d)\n",
    "    return np.mean(dists)\n",
    "\n",
    "\n",
    "# === Paths ===\n",
    "base_dir =  \"/content/drive/MyDrive/dots_data_new\"\n",
    "train_dir = os.path.join(base_dir, \"train\")\n",
    "test_dir = os.path.join(base_dir, \"test\")\n",
    "val_dir = os.path.join(base_dir, \"validation\")\n",
    "\n",
    "train_images = get_image_paths(train_dir)\n",
    "test_images = get_image_paths(test_dir)\n",
    "val_images = get_image_paths(val_dir)"
   ],
   "metadata": {
    "id": "ONk3LQpRu6Gu"
   },
   "execution_count": null,
   "outputs": []
  },
  {
   "cell_type": "markdown",
   "source": [
    "Next, we evaluate these embeddings using the Separation score and select the transformation that yields the highest score.\n"
   ],
   "metadata": {
    "id": "Bj6mLerNYAqD"
   }
  },
  {
   "cell_type": "code",
   "source": [
    "# === Score dictionaries + Embeddings storage ===\n",
    "silhouette_scores = {}\n",
    "separation_scores = {}\n",
    "all_embeddings = {}  # 💾 To store all embeddings\n",
    "\n",
    "# === Visualization ===\n",
    "n_plots = len(transforms_dict)\n",
    "rows = 3\n",
    "cols = 4\n",
    "plt.figure(figsize=(cols * 4, rows * 3))\n",
    "\n",
    "for i, (name, transform) in enumerate(transforms_dict.items(), 1):\n",
    "    print(f\"\\nProcessing: {name}\")\n",
    "\n",
    "    # Step 1: Extract embeddings\n",
    "    X, y = extract_embeddings_with_transform(train_images, transform)\n",
    "\n",
    "    # Save embedding\n",
    "    all_embeddings[name] = {\"X\": X, \"y\": y}\n",
    "\n",
    "    # Step 2: Compute metrics\n",
    "    sil_score = silhouette_score(X, y)\n",
    "    sep_score = compute_class_separation(X, y)\n",
    "\n",
    "    silhouette_scores[name] = sil_score\n",
    "    separation_scores[name] = sep_score\n",
    "        # Step 3: PCA for visualization\n",
    "    pca = PCA(n_components=2)\n",
    "    X_pca = pca.fit_transform(X)\n",
    "    classes = np.unique(y)\n",
    "    class_to_color = {cls: plt.cm.tab10(i % 10) for i, cls in enumerate(classes)}\n",
    "\n",
    "    plt.subplot(rows, cols, i)\n",
    "    for cls in classes:\n",
    "        idx = y == cls\n",
    "        plt.scatter(\n",
    "            X_pca[idx, 0], X_pca[idx, 1],\n",
    "            label=cls,\n",
    "            color=class_to_color[cls],\n",
    "            alpha=0.7, edgecolors='k'\n",
    "        )\n",
    "    plt.title(f\"{name}\\nSil = {sil_score:.2f}, Sep = {sep_score:.2f}\")\n",
    "    plt.xlabel(\"PC1\")\n",
    "    plt.ylabel(\"PC2\")\n",
    "    plt.legend(fontsize=6)\n",
    "\n",
    "plt.suptitle(\"📊 PCA + Silhouette + Separation\", fontsize=16)\n",
    "plt.tight_layout(rect=[0, 0, 1, 0.95])\n",
    "plt.show()\n",
    "\n",
    "# === Summary Table ===\n",
    "summary_df = pd.DataFrame({\n",
    "    \"Transformation\": list(silhouette_scores.keys()),\n",
    "    \"Silhouette Score\": list(silhouette_scores.values()),\n",
    "    \"Separation Score\": list(separation_scores.values())\n",
    "})\n",
    "\n",
    "summary_df = summary_df.sort_values(by=\"Silhouette Score\", ascending=False)\n",
    "\n",
    "print(\"\\nSummary Table:\")\n",
    "print(summary_df.to_string(index=False, float_format=\"%.3f\"))"
   ],
   "metadata": {
    "colab": {
     "base_uri": "https://localhost:8080/",
     "height": 1000,
     "referenced_widgets": [
      "063730e2932542179d21af823a785317",
      "e07158459c674fc39eab4c22b7da9db4",
      "3f0545598760415a997a27578e468d0b",
      "a74a9272653a4d5ba13379b7db2e19a8",
      "0be393bd7ee44767b4feb1184b57f097",
      "0a860f5b1fa5446ebb0a339d5258e7b1",
      "f5dd1b0e569a47ffb83ef01390c998ef",
      "e8019ae9518a4de5a2f6f4fba7ea053f",
      "7e495485d438424b8f4b1de1824d45b6",
      "66956d58e7624f1b8217e098f5801e4b",
      "d1f1d4e6ae6a49c5a0d0ceea016dacf6",
      "a135ad92db3c4ffd885bac18af690f72",
      "e19b30e478c847dfb3a72b059335cd79",
      "b724e7b3ade44bb6a3cbf036edaa119e",
      "798f1448555b49eba87c7973f31c6fce",
      "171908e1cfad4c749d3eba6448c3caf0",
      "41f552eabe2a494cb3a3371134729efe",
      "fcde2b01d2d945f497a8dee350287651",
      "b14bd7ac6a9249c59d6659da3907c536",
      "a78bcc877d6e4492b07846df6f6045f9",
      "80fa453c3a794867b6f74ed04a70eb84",
      "5e6d3c1067c7431b9b2da3dff1d27590",
      "228fe42b2b2d48d3869d11f00999a9c2",
      "6f718aba11134ab9a13a0e7cd9658d3f",
      "a0ac7256bfb74bc680cb3aa2a5e4911a",
      "84801ef287534ea8b6849d5ad0ade047",
      "3175e319d6da4002b251b3b8eb910a2b",
      "56004fc473e041ccafbf178bfd7dcbad",
      "81e9c57d079147d6b45c7ada07a0e3e0",
      "be0ce7ca3b7a4521bc184e53fca2cd7b",
      "bec41d5d4813444a9b887a1a08c10609",
      "04515c32c0224439ae4b79d65e1e4a72",
      "def9829e914e44b7a78e3e4f0fe9ae82",
      "6ff9340484ec4e66a82067987fe3f13f",
      "bba0588029e449999891668fcc33f7bc",
      "f34913a695a54f2d87096ce66dbd269e",
      "50a1d82c93bf4f019ca20ae17ac59be4",
      "63bbf1eb00ad419aaa259bd691e50e17",
      "d522def2ca5f4021a9d4ff8febf07915",
      "9d962e08c5e344b2b7af5423459f1ed4",
      "9723000b37f94d6eb2222b46de1359ab",
      "2721fc5bb1304f3e8e67d25e210b5731",
      "88c8361767574444b8aff8573ad05860",
      "57688a10e7a644369c57d3c651ace9b2",
      "a2c50bd7667345c7bc6f218ca425a627",
      "44cdc628b0334ac2a83bb57c836bb65b",
      "de04916a09f5448a8a09c6687c5ae43f",
      "1c336cffbfe1416091a8128515f87fac",
      "8e7172619b434c80aae01a23a87e6d89",
      "67b1518b959e4867b9b9e208461dacd4",
      "9d1303b7e2cc44589c2cff88b0983733",
      "f4a6c90d13a34270aa1ff572f5f8e468",
      "ec6c0bb9307b46f390427a13cc367564",
      "b77410f3f201409592a471a8b46f040e",
      "00a0f43871a645eba5b7a9d7d5b011e4",
      "4181c8a7249c403788ff6988dc135004",
      "7490df1a528042a89a343a9da3ab0f00",
      "16ed057c756a40f1899e87a166767377",
      "76713ed4d5b84cd6b63a72f8624a3d90",
      "5f00de333511452bba379554438cd813",
      "36dec1587fc04d2f89644ed26fbee8c4",
      "9a469dd65c5942689577b769ddd53d4f",
      "4c7c99850bc744928b4154e0ee64546f",
      "df3da1af143f40bca1db41093a2ddbb6",
      "34bed6dc2bd942039b9be7b7084585a3",
      "eff4d38175a14a7ca001cbaa4bd75c49",
      "5334f0b1e77c466194f3e2c1b6de2831",
      "a499f46f03664d67b3fddbe3492da3ba",
      "7f893e564dee4cf8a68ed784a45a2a75",
      "3555143d7d924cb3bed3b9d2d841a20f",
      "0ca0122d0d2e457b854801ca20eb9c58",
      "457640bac1754dd9bf559248eb077de8",
      "2854f27433b8472987d8a952dfc7ab95",
      "6e0eb727fc834878aceccc64a490663c",
      "f5fa2b642c1e45cd8510a4364def9956",
      "208c5eb46a884ec8bad827634e74746e",
      "0f06ee4215114509bfb2055ad6438dfd"
     ]
    },
    "id": "abgfKDmZvBLo",
    "executionInfo": {
     "status": "ok",
     "timestamp": 1753946035667,
     "user_tz": -180,
     "elapsed": 526266,
     "user": {
      "displayName": "אורחן מדר",
      "userId": "14793673884592240909"
     }
    },
    "outputId": "000c077c-c460-4442-a76d-15cf542b3962"
   },
   "execution_count": null,
   "outputs": [
    {
     "output_type": "stream",
     "name": "stdout",
     "text": [
      "\n",
      "Processing: resize_224\n"
     ]
    },
    {
     "output_type": "display_data",
     "data": {
      "text/plain": [
       "Extracting embeddings:   0%|          | 0/12 [00:00<?, ?it/s]"
      ],
      "application/vnd.jupyter.widget-view+json": {
       "version_major": 2,
       "version_minor": 0,
       "model_id": "063730e2932542179d21af823a785317"
      }
     },
     "metadata": {}
    },
    {
     "output_type": "stream",
     "name": "stdout",
     "text": [
      "\n",
      "Processing: pad_center_224\n"
     ]
    },
    {
     "output_type": "display_data",
     "data": {
      "text/plain": [
       "Extracting embeddings:   0%|          | 0/12 [00:00<?, ?it/s]"
      ],
      "application/vnd.jupyter.widget-view+json": {
       "version_major": 2,
       "version_minor": 0,
       "model_id": "a135ad92db3c4ffd885bac18af690f72"
      }
     },
     "metadata": {}
    },
    {
     "output_type": "stream",
     "name": "stdout",
     "text": [
      "\n",
      "Processing: resize_50_pad\n"
     ]
    },
    {
     "output_type": "display_data",
     "data": {
      "text/plain": [
       "Extracting embeddings:   0%|          | 0/12 [00:00<?, ?it/s]"
      ],
      "application/vnd.jupyter.widget-view+json": {
       "version_major": 2,
       "version_minor": 0,
       "model_id": "228fe42b2b2d48d3869d11f00999a9c2"
      }
     },
     "metadata": {}
    },
    {
     "output_type": "stream",
     "name": "stdout",
     "text": [
      "\n",
      "Processing: resize_100_pad\n"
     ]
    },
    {
     "output_type": "display_data",
     "data": {
      "text/plain": [
       "Extracting embeddings:   0%|          | 0/12 [00:00<?, ?it/s]"
      ],
      "application/vnd.jupyter.widget-view+json": {
       "version_major": 2,
       "version_minor": 0,
       "model_id": "6ff9340484ec4e66a82067987fe3f13f"
      }
     },
     "metadata": {}
    },
    {
     "output_type": "stream",
     "name": "stdout",
     "text": [
      "\n",
      "Processing: resize_150_pad\n"
     ]
    },
    {
     "output_type": "display_data",
     "data": {
      "text/plain": [
       "Extracting embeddings:   0%|          | 0/12 [00:00<?, ?it/s]"
      ],
      "application/vnd.jupyter.widget-view+json": {
       "version_major": 2,
       "version_minor": 0,
       "model_id": "a2c50bd7667345c7bc6f218ca425a627"
      }
     },
     "metadata": {}
    },
    {
     "output_type": "stream",
     "name": "stdout",
     "text": [
      "\n",
      "Processing: resize_200_pad\n"
     ]
    },
    {
     "output_type": "display_data",
     "data": {
      "text/plain": [
       "Extracting embeddings:   0%|          | 0/12 [00:00<?, ?it/s]"
      ],
      "application/vnd.jupyter.widget-view+json": {
       "version_major": 2,
       "version_minor": 0,
       "model_id": "4181c8a7249c403788ff6988dc135004"
      }
     },
     "metadata": {}
    },
    {
     "output_type": "stream",
     "name": "stdout",
     "text": [
      "\n",
      "Processing: grid_2x2\n"
     ]
    },
    {
     "output_type": "display_data",
     "data": {
      "text/plain": [
       "Extracting embeddings:   0%|          | 0/12 [00:00<?, ?it/s]"
      ],
      "application/vnd.jupyter.widget-view+json": {
       "version_major": 2,
       "version_minor": 0,
       "model_id": "5334f0b1e77c466194f3e2c1b6de2831"
      }
     },
     "metadata": {}
    },
    {
     "output_type": "stream",
     "name": "stderr",
     "text": [
      "/tmp/ipython-input-406721065.py:48: UserWarning: Glyph 128202 (\\N{BAR CHART}) missing from font(s) DejaVu Sans.\n",
      "  plt.tight_layout(rect=[0, 0, 1, 0.95])\n",
      "/usr/local/lib/python3.11/dist-packages/IPython/core/pylabtools.py:151: UserWarning: Glyph 128202 (\\N{BAR CHART}) missing from font(s) DejaVu Sans.\n",
      "  fig.canvas.print_figure(bytes_io, **kw)\n"
     ]
    },
    {
     "output_type": "display_data",
     "data": {
      "text/plain": [
       "<Figure size 1600x900 with 7 Axes>"
      ],
      "image/png": "[encoded data removed]"
     },
     "metadata": {}
    },
    {
     "output_type": "stream",
     "name": "stdout",
     "text": [
      "\n",
      "Summary Table:\n",
      "Transformation  Silhouette Score  Separation Score\n",
      "pad_center_224             0.409            37.126\n",
      " resize_50_pad             0.385            36.150\n",
      "resize_100_pad             0.374            38.738\n",
      "resize_150_pad             0.356            39.270\n",
      "    resize_224             0.342            39.071\n",
      "resize_200_pad             0.341            39.141\n",
      "      grid_2x2             0.335            38.001\n"
     ]
    }
   ]
  },
  {
   "cell_type": "markdown",
   "source": [
    "Using the best transformation, we generate embeddings for the training, validation, and test sets, and save these embeddings for further use."
   ],
   "metadata": {
    "id": "zEIwgedkYMTI"
   }
  },
  {
   "cell_type": "code",
   "source": [
    "# === Step 4: Select best transform by separation score ===\n",
    "best_transform_name = max(separation_scores, key=separation_scores.get)\n",
    "best_transform = transforms_dict[best_transform_name]\n",
    "print(f\"\\n✅ Best transform selected: {best_transform_name}\")\n",
    "\n",
    "X_train = all_embeddings[best_transform_name][\"X\"]\n",
    "y_train = all_embeddings[best_transform_name][\"y\"]"
   ],
   "metadata": {
    "colab": {
     "base_uri": "https://localhost:8080/"
    },
    "id": "YedoXATRvFif",
    "executionInfo": {
     "status": "ok",
     "timestamp": 1753946035690,
     "user_tz": -180,
     "elapsed": 14,
     "user": {
      "displayName": "אורחן מדר",
      "userId": "14793673884592240909"
     }
    },
    "outputId": "01de4402-6d2b-425a-c1ec-8ba7c40e8323"
   },
   "execution_count": null,
   "outputs": [
    {
     "output_type": "stream",
     "name": "stdout",
     "text": [
      "\n",
      "✅ Best transform selected: resize_150_pad\n"
     ]
    }
   ]
  },
  {
   "cell_type": "code",
   "source": [
    "# === Step 5: PCA of best transform ===\n",
    "le = LabelEncoder()\n",
    "y_encoded = le.fit_transform(y_train)\n",
    "pca = PCA(n_components=2)\n",
    "X_pca = pca.fit_transform(X_train)\n",
    "\n",
    "colors = plt.cm.tab10.colors\n",
    "num_classes = len(np.unique(y_encoded))\n",
    "\n",
    "plt.figure(figsize=(10, 7))\n",
    "for class_index in range(num_classes):\n",
    "    idx = y_encoded == class_index\n",
    "    plt.scatter(\n",
    "        X_pca[idx, 0],\n",
    "        X_pca[idx, 1],\n",
    "        s=120,\n",
    "        color=colors[class_index % len(colors)],\n",
    "        label=le.inverse_transform([class_index])[0],\n",
    "        alpha=0.75,\n",
    "        edgecolors='k'\n",
    "    )\n",
    "\n",
    "plt.title(f\"PCA of Best Transform: {best_transform_name}\", fontsize=16)\n",
    "plt.xlabel(\"PC1\", fontsize=14)\n",
    "plt.ylabel(\"PC2\", fontsize=14)\n",
    "plt.legend(title=\"Class\", fontsize=10)\n",
    "plt.grid(True)\n",
    "plt.tight_layout()\n",
    "plt.show()\n"
   ],
   "metadata": {
    "colab": {
     "base_uri": "https://localhost:8080/",
     "height": 707
    },
    "id": "AJbdA296JjoW",
    "executionInfo": {
     "status": "ok",
     "timestamp": 1753946035918,
     "user_tz": -180,
     "elapsed": 226,
     "user": {
      "displayName": "אורחן מדר",
      "userId": "14793673884592240909"
     }
    },
    "outputId": "8465556f-88bb-4dd7-f60e-2e1cf78821c5"
   },
   "execution_count": null,
   "outputs": [
    {
     "output_type": "display_data",
     "data": {
      "text/plain": [
       "<Figure size 1000x700 with 1 Axes>"
      ],
      "image/png": "[encoded data removed]"
     },
     "metadata": {}
    }
   ]
  },
  {
   "cell_type": "code",
   "source": [
    "# === Step 6: Create test and val embeddings using best transform ===\n",
    "print(\"\\nExtracting test embeddings...\")\n",
    "X_test, y_test = extract_embeddings_with_transform(test_images, best_transform)\n",
    "\n",
    "print(\"\\nExtracting validation embeddings...\")\n",
    "X_val, y_val = extract_embeddings_with_transform(val_images, best_transform)\n"
   ],
   "metadata": {
    "colab": {
     "base_uri": "https://localhost:8080/",
     "height": 155,
     "referenced_widgets": [
      "6b086e5f5a59476386f4ff25bd82e8b1",
      "3ee07af2d5724bb1b3975aabf4edbc4b",
      "df5677e7669243ecb49c404e006f6582",
      "b9e739752b484683ac9e7c34c9615c45",
      "6c0fa91aaee6434287c46d4273a478d6",
      "5548871fce11444895ca2ff0405c4da3",
      "2317bc09f83645f29193517a8d4fe298",
      "cbf0155c7faf4895b174a0691533a1bb",
      "51e28f6952f6412cb048509a077af431",
      "3d233db5bd4848658e82be6056d53e04",
      "6a9e1365453a48c98b66276b1f0c7ce1",
      "257dc0de32d541639048791fd28da68e",
      "3c8b921060ab47a0b5a783c9bd1d5d37",
      "01d317c82caa4db0812a6947657c80fe",
      "41e372df34b04b8296289e3a91428939",
      "e16a8cdeb98a4ccc8e66d65b13d36b5d",
      "1e7c9fac052f498cbadaaf4f48bf2939",
      "9c3265e3ac3042169f1bf84878aaf4e6",
      "7b4c1a74caba4df19269a1e3bb2c12e9",
      "aba73c04592e4185803337c1b715c8ac",
      "290953eb5afd4e6ea5b3db33b90ae770",
      "66fc7fcdce5b44c3b43e6c0854e74220"
     ]
    },
    "id": "dD8w2NGuNiJA",
    "executionInfo": {
     "status": "ok",
     "timestamp": 1753946921764,
     "user_tz": -180,
     "elapsed": 885834,
     "user": {
      "displayName": "אורחן מדר",
      "userId": "14793673884592240909"
     }
    },
    "outputId": "3a578d45-e182-4a0e-d82b-e4e359e9ba71"
   },
   "execution_count": null,
   "outputs": [
    {
     "output_type": "stream",
     "name": "stdout",
     "text": [
      "\n",
      "Extracting test embeddings...\n"
     ]
    },
    {
     "output_type": "display_data",
     "data": {
      "text/plain": [
       "Extracting embeddings:   0%|          | 0/118 [00:00<?, ?it/s]"
      ],
      "application/vnd.jupyter.widget-view+json": {
       "version_major": 2,
       "version_minor": 0,
       "model_id": "6b086e5f5a59476386f4ff25bd82e8b1"
      }
     },
     "metadata": {}
    },
    {
     "output_type": "stream",
     "name": "stdout",
     "text": [
      "\n",
      "Extracting validation embeddings...\n"
     ]
    },
    {
     "output_type": "display_data",
     "data": {
      "text/plain": [
       "Extracting embeddings:   0%|          | 0/17 [00:00<?, ?it/s]"
      ],
      "application/vnd.jupyter.widget-view+json": {
       "version_major": 2,
       "version_minor": 0,
       "model_id": "257dc0de32d541639048791fd28da68e"
      }
     },
     "metadata": {}
    }
   ]
  },
  {
   "cell_type": "code",
   "source": [
    "save_path = '/content/drive/MyDrive/my_embeddings_folder_dots/'\n",
    "\n",
    "import os\n",
    "if not os.path.exists(save_path):\n",
    "    os.makedirs(save_path)\n",
    "\n",
    "# Save best transform name\n",
    "with open(os.path.join(save_path, \"best_transform_name.txt\"), \"w\") as f:\n",
    "    f.write(best_transform_name)\n",
    "\n",
    "# Save embeddings and labels\n",
    "np.save(os.path.join(save_path, 'best_train_embeddings.npy'), X_train)\n",
    "np.save(os.path.join(save_path, 'train_labels.npy'), y_train)\n",
    "np.save(os.path.join(save_path, 'test_embeddings.npy'), X_test)\n",
    "np.save(os.path.join(save_path, 'test_labels.npy'), y_test)\n",
    "np.save(os.path.join(save_path, 'val_embeddings.npy'), X_val)\n",
    "np.save(os.path.join(save_path, 'val_labels.npy'), y_val)\n",
    "\n",
    "print(\"✅ All embeddings saved successfully to Google Drive.\")\n"
   ],
   "metadata": {
    "colab": {
     "base_uri": "https://localhost:8080/"
    },
    "id": "vqo6eZZR3g0S",
    "executionInfo": {
     "status": "ok",
     "timestamp": 1753946924384,
     "user_tz": -180,
     "elapsed": 2613,
     "user": {
      "displayName": "אורחן מדר",
      "userId": "14793673884592240909"
     }
    },
    "outputId": "8c060616-cdee-4c28-9c58-625be5a7119f"
   },
   "execution_count": null,
   "outputs": [
    {
     "output_type": "stream",
     "name": "stdout",
     "text": [
      "✅ All embeddings saved successfully to Google Drive.\n"
     ]
    }
   ]
  }
 ]
}